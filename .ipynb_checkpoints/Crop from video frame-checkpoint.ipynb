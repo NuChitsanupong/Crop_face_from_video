{
 "cells": [
  {
   "cell_type": "code",
   "execution_count": 1,
   "metadata": {
    "colab": {},
    "colab_type": "code",
    "executionInfo": {
     "elapsed": 7944,
     "status": "ok",
     "timestamp": 1600343107581,
     "user": {
      "displayName": "Phattharaphon ROMPHET",
      "photoUrl": "https://lh3.googleusercontent.com/a-/AOh14GjY8seV5qP7zyDiHVGFnEMuOsKVk46b_PXLJdnqZw=s64",
      "userId": "00661482292536126056"
     },
     "user_tz": -420
    },
    "id": "hQTHZVk349ez"
   },
   "outputs": [],
   "source": [
    "from collections import OrderedDict\n",
    "import numpy as np\n",
    "import cv2\n",
    "import dlib\n",
    "import imutils\n",
    "import os\n",
    "from imutils.video import VideoStream\n",
    "from imutils import face_utils\n",
    "import argparse\n",
    "import time\n",
    "import dlib\n",
    "import cv2\n",
    "import tensorflow as tf\n",
    "np.set_printoptions(suppress=True)"
   ]
  },
  {
   "cell_type": "code",
   "execution_count": 2,
   "metadata": {},
   "outputs": [],
   "source": [
    "def get_face_position(image):\n",
    "    \n",
    "    net = cv2.dnn.readNetFromCaffe('Util/deploy.prototxt.txt', 'Util/res10_300x300_ssd_iter_140000.caffemodel')\n",
    "    (h, w) = image.shape[:2]\n",
    "    blob = cv2.dnn.blobFromImage(cv2.resize(image, (300, 300)), 1.0,\n",
    "        (300, 300), (104.0, 177.0, 123.0))\n",
    "\n",
    "    net.setInput(blob)\n",
    "    detections = net.forward()\n",
    "    \n",
    "    face_index = []\n",
    "    for i in range(0, detections.shape[2]):\n",
    "        confidence = detections[0, 0, i, 2]\n",
    "        if confidence > 0.9:\n",
    "            face_index.append(i)\n",
    "    pos = []\n",
    "\n",
    "    for i in face_index:\n",
    "\n",
    "        box = detections[0, 0, i, 3:7] * np.array([w, h, w, h])\n",
    "        (startX, startY, endX, endY) = box.astype(\"int\")\n",
    "\n",
    "        try:\n",
    "          startX -= int(0.1*startX)\n",
    "          startY -= int(0.1*startY)\n",
    "          endX += int((0.1)*startX)\n",
    "          endY += int((0.1)*startY)\n",
    "        except:\n",
    "          ;\n",
    "\n",
    "        pos.append((startX, startY, endX, endY))\n",
    "        \n",
    "    return pos"
   ]
  },
  {
   "cell_type": "code",
   "execution_count": 3,
   "metadata": {},
   "outputs": [],
   "source": [
    "def extract_face_from_video(video_path, person_name):\n",
    "\n",
    "    stream = cv2.VideoCapture(video_path)\n",
    "    p_name = person_name\n",
    "    \n",
    "    print('Processing ', p_name)\n",
    "    count = 0\n",
    "    img_count = 0\n",
    "    success = False\n",
    "    while (not success):\n",
    "        (grabbed, frame) = stream.read()\n",
    "        if not grabbed:\n",
    "            break\n",
    "        frame = imutils.resize(frame, width=1200)\n",
    "        overlay = frame.copy()\n",
    "        \n",
    "        face_postions = get_face_position(frame)\n",
    "        if len(face_postions)>1:            \n",
    "            continue\n",
    "\n",
    "        for rect in face_postions:\n",
    "            (startX, startY, endX, endY) = rect\n",
    "\n",
    "            \n",
    "            face = frame[startY:endY, startX:endX]\n",
    "\n",
    "            try:\n",
    "#                 if count%64==0:\n",
    "#                     print('save in test')\n",
    "#                     cv2.imwrite('Images/test/' + str(p_name) + '/' + (video_path.split('/')[-1]).split('.')[0] + '_'  + str(img_count)+'.jpg', face)\n",
    "# #                     cv2.imwrite('Images/test/' + str(p_name) + '/' + str(p_name) + '_' + str(img_count) + '.jpg', face)\n",
    "#                 elif count%16==0:\n",
    "#                     print('save in train')\n",
    "# #                     cv2.imwrite('Images/train/' + str(p_name) + '/' + str(p_name) + '_' + str(img_count) + '.jpg', face)\n",
    "#                     cv2.imwrite('Images/train/' + str(p_name) + '/' + (video_path.split('/')[-1]).split('.')[0] + '_'  + str(img_count)+'.jpg', face)\n",
    "                if count%10==0:\n",
    "                    cv2.imwrite('Images/train/' + str(p_name) + '/' + (video_path.split('/')[-1]).split('.')[0] + '_'  + str(img_count)+'.jpg', face)\n",
    "                    img_count +=1\n",
    "                    print(img_count)\n",
    "                    \n",
    "                count += 1\n",
    "                if img_count > 20:\n",
    "                    success = True\n",
    "            except:\n",
    "                continue\n",
    "                \n",
    "    print('Finish ' + video_path)"
   ]
  },
  {
   "cell_type": "code",
   "execution_count": 4,
   "metadata": {
    "colab": {},
    "colab_type": "code",
    "executionInfo": {
     "elapsed": 6843,
     "status": "ok",
     "timestamp": 1600343107583,
     "user": {
      "displayName": "Phattharaphon ROMPHET",
      "photoUrl": "https://lh3.googleusercontent.com/a-/AOh14GjY8seV5qP7zyDiHVGFnEMuOsKVk46b_PXLJdnqZw=s64",
      "userId": "00661482292536126056"
     },
     "user_tz": -420
    },
    "id": "j0EybvuJ49e1"
   },
   "outputs": [],
   "source": [
    "def process_video(video_dir_path):\n",
    "    person_video = os.listdir(video_dir_path)\n",
    "    num_class = len(person_video)\n",
    "    try:\n",
    "        os.mkdir('Images')\n",
    "    except:\n",
    "        ;\n",
    "\n",
    "#     for f in ['train', 'test']:\n",
    "#         try:\n",
    "#             os.mkdir('Images/' + f)\n",
    "#         except:\n",
    "#             print(f + ' exist')\n",
    "    \n",
    "#     for f in ['train', 'test']:\n",
    "#         for p in person_video:\n",
    "#           p_name = p\n",
    "#           try:\n",
    "#               os.mkdir(\"Images/\" + f +'/' + p_name)\n",
    "#           except:\n",
    "#               print('folder exist')\n",
    "\n",
    "    for f in ['train']:\n",
    "        try:\n",
    "            os.mkdir('Images/' + f)\n",
    "        except:\n",
    "            print(f + ' exist')\n",
    "    \n",
    "    for f in ['train']:\n",
    "        for p in person_video:\n",
    "          p_name = p\n",
    "          try:\n",
    "              os.mkdir(\"Images/\" + f +'/' + p_name)\n",
    "          except:\n",
    "              print('folder ' + p_name + ' exist')\n",
    "\n",
    "    \n",
    "            \n",
    "    video_path = []\n",
    "    name = []\n",
    "    for i in person_video:\n",
    "        file_path = video_dir_path + '/' + i\n",
    "        for v in os.listdir(file_path):\n",
    "            v_path = video_dir_path + '/'+ i + '/' + v\n",
    "            video_path.append(v_path)\n",
    "            print(v_path)\n",
    "\n",
    "    precess_data = True\n",
    "    if precess_data:\n",
    "        for i in range(0,len(video_path)):\n",
    "            name = video_path[i].split('/')[1]\n",
    "            extract_face_from_video(video_path[i], name)\n",
    "#             total_train += train\n",
    "#             total_test += test\n",
    "\n",
    "    "
   ]
  },
  {
   "cell_type": "code",
   "execution_count": 7,
   "metadata": {},
   "outputs": [
    {
     "name": "stdout",
     "output_type": "stream",
     "text": [
      "Processing  sample\n",
      "1\n",
      "2\n",
      "3\n",
      "4\n",
      "5\n",
      "6\n",
      "7\n",
      "8\n",
      "9\n",
      "10\n",
      "11\n",
      "12\n",
      "13\n"
     ]
    },
    {
     "ename": "KeyboardInterrupt",
     "evalue": "",
     "output_type": "error",
     "traceback": [
      "\u001b[1;31m---------------------------------------------------------------------------\u001b[0m",
      "\u001b[1;31mKeyboardInterrupt\u001b[0m                         Traceback (most recent call last)",
      "\u001b[1;32m<ipython-input-7-352ed2f47538>\u001b[0m in \u001b[0;36m<module>\u001b[1;34m\u001b[0m\n\u001b[1;32m----> 1\u001b[1;33m \u001b[0mextract_face_from_video\u001b[0m\u001b[1;33m(\u001b[0m\u001b[1;34m'Videos/__sample/sample.mp4'\u001b[0m\u001b[1;33m,\u001b[0m \u001b[1;34m\"sample\"\u001b[0m\u001b[1;33m)\u001b[0m\u001b[1;33m\u001b[0m\u001b[1;33m\u001b[0m\u001b[0m\n\u001b[0m",
      "\u001b[1;32m<ipython-input-3-fe4fa678cd88>\u001b[0m in \u001b[0;36mextract_face_from_video\u001b[1;34m(video_path, person_name)\u001b[0m\n\u001b[0;32m     15\u001b[0m         \u001b[0moverlay\u001b[0m \u001b[1;33m=\u001b[0m \u001b[0mframe\u001b[0m\u001b[1;33m.\u001b[0m\u001b[0mcopy\u001b[0m\u001b[1;33m(\u001b[0m\u001b[1;33m)\u001b[0m\u001b[1;33m\u001b[0m\u001b[1;33m\u001b[0m\u001b[0m\n\u001b[0;32m     16\u001b[0m \u001b[1;33m\u001b[0m\u001b[0m\n\u001b[1;32m---> 17\u001b[1;33m         \u001b[0mface_postions\u001b[0m \u001b[1;33m=\u001b[0m \u001b[0mget_face_position\u001b[0m\u001b[1;33m(\u001b[0m\u001b[0mframe\u001b[0m\u001b[1;33m)\u001b[0m\u001b[1;33m\u001b[0m\u001b[1;33m\u001b[0m\u001b[0m\n\u001b[0m\u001b[0;32m     18\u001b[0m         \u001b[1;32mif\u001b[0m \u001b[0mlen\u001b[0m\u001b[1;33m(\u001b[0m\u001b[0mface_postions\u001b[0m\u001b[1;33m)\u001b[0m\u001b[1;33m>\u001b[0m\u001b[1;36m1\u001b[0m\u001b[1;33m:\u001b[0m\u001b[1;33m\u001b[0m\u001b[1;33m\u001b[0m\u001b[0m\n\u001b[0;32m     19\u001b[0m             \u001b[1;32mcontinue\u001b[0m\u001b[1;33m\u001b[0m\u001b[1;33m\u001b[0m\u001b[0m\n",
      "\u001b[1;32m<ipython-input-2-bc19f0950ce2>\u001b[0m in \u001b[0;36mget_face_position\u001b[1;34m(image)\u001b[0m\n\u001b[0;32m      7\u001b[0m \u001b[1;33m\u001b[0m\u001b[0m\n\u001b[0;32m      8\u001b[0m     \u001b[0mnet\u001b[0m\u001b[1;33m.\u001b[0m\u001b[0msetInput\u001b[0m\u001b[1;33m(\u001b[0m\u001b[0mblob\u001b[0m\u001b[1;33m)\u001b[0m\u001b[1;33m\u001b[0m\u001b[1;33m\u001b[0m\u001b[0m\n\u001b[1;32m----> 9\u001b[1;33m     \u001b[0mdetections\u001b[0m \u001b[1;33m=\u001b[0m \u001b[0mnet\u001b[0m\u001b[1;33m.\u001b[0m\u001b[0mforward\u001b[0m\u001b[1;33m(\u001b[0m\u001b[1;33m)\u001b[0m\u001b[1;33m\u001b[0m\u001b[1;33m\u001b[0m\u001b[0m\n\u001b[0m\u001b[0;32m     10\u001b[0m \u001b[1;33m\u001b[0m\u001b[0m\n\u001b[0;32m     11\u001b[0m     \u001b[0mface_index\u001b[0m \u001b[1;33m=\u001b[0m \u001b[1;33m[\u001b[0m\u001b[1;33m]\u001b[0m\u001b[1;33m\u001b[0m\u001b[1;33m\u001b[0m\u001b[0m\n",
      "\u001b[1;31mKeyboardInterrupt\u001b[0m: "
     ]
    }
   ],
   "source": [
    "extract_face_from_video('Videos/__sample/sample.mp4', \"sample\")"
   ]
  },
  {
   "cell_type": "code",
   "execution_count": null,
   "metadata": {},
   "outputs": [],
   "source": []
  },
  {
   "cell_type": "code",
   "execution_count": 10,
   "metadata": {
    "colab": {
     "base_uri": "https://localhost:8080/",
     "height": 538
    },
    "colab_type": "code",
    "executionInfo": {
     "elapsed": 5261,
     "status": "error",
     "timestamp": 1597918845757,
     "user": {
      "displayName": "Phattharaphon ROMPHET",
      "photoUrl": "https://lh3.googleusercontent.com/a-/AOh14GjY8seV5qP7zyDiHVGFnEMuOsKVk46b_PXLJdnqZw=s64",
      "userId": "00661482292536126056"
     },
     "user_tz": -420
    },
    "id": "u_UPL2pY49e4",
    "outputId": "7627cd5b-6d76-44cd-dcd4-816468c116e9",
    "scrolled": false
   },
   "outputs": [
    {
     "name": "stdout",
     "output_type": "stream",
     "text": [
      "train exist\n",
      "Videos/taotao/taotao4.mp4\n",
      "Processing  taotao\n",
      "1\n",
      "2\n",
      "3\n",
      "4\n",
      "5\n",
      "6\n",
      "7\n",
      "8\n",
      "9\n",
      "10\n",
      "11\n",
      "12\n",
      "13\n",
      "14\n",
      "15\n",
      "16\n",
      "17\n",
      "18\n",
      "19\n",
      "20\n",
      "21\n",
      "22\n",
      "23\n",
      "24\n",
      "25\n",
      "26\n",
      "27\n",
      "28\n",
      "Finish Videos/taotao/taotao4.mp4\n"
     ]
    }
   ],
   "source": [
    "process_video('Videos')"
   ]
  },
  {
   "cell_type": "code",
   "execution_count": null,
   "metadata": {},
   "outputs": [],
   "source": []
  },
  {
   "cell_type": "code",
   "execution_count": null,
   "metadata": {},
   "outputs": [],
   "source": []
  },
  {
   "cell_type": "code",
   "execution_count": 21,
   "metadata": {
    "colab": {},
    "colab_type": "code",
    "id": "bRJyn9EIFPnc"
   },
   "outputs": [
    {
     "name": "stdout",
     "output_type": "stream",
     "text": [
      "Processing  mookkt\n",
      "1\n"
     ]
    },
    {
     "ename": "KeyboardInterrupt",
     "evalue": "",
     "output_type": "error",
     "traceback": [
      "\u001b[1;31m---------------------------------------------------------------------------\u001b[0m",
      "\u001b[1;31mKeyboardInterrupt\u001b[0m                         Traceback (most recent call last)",
      "\u001b[1;32m<ipython-input-21-b1e14382a2b4>\u001b[0m in \u001b[0;36m<module>\u001b[1;34m\u001b[0m\n\u001b[0;32m      1\u001b[0m \u001b[1;31m# extract_face_from_video('/content/sample_data/testMov.mp4', \"Terng\")\u001b[0m\u001b[1;33m\u001b[0m\u001b[1;33m\u001b[0m\u001b[1;33m\u001b[0m\u001b[0m\n\u001b[1;32m----> 2\u001b[1;33m \u001b[0mextract_face_from_video\u001b[0m\u001b[1;33m(\u001b[0m\u001b[1;34m'Videos/mookkt/mookkt2.mp4'\u001b[0m\u001b[1;33m,\u001b[0m \u001b[1;34m\"mookkt\"\u001b[0m\u001b[1;33m)\u001b[0m\u001b[1;33m\u001b[0m\u001b[1;33m\u001b[0m\u001b[0m\n\u001b[0m",
      "\u001b[1;32m<ipython-input-20-13c8ed96c3a8>\u001b[0m in \u001b[0;36mextract_face_from_video\u001b[1;34m(video_path, person_name)\u001b[0m\n\u001b[0;32m     12\u001b[0m         \u001b[1;32mif\u001b[0m \u001b[1;32mnot\u001b[0m \u001b[0mgrabbed\u001b[0m\u001b[1;33m:\u001b[0m\u001b[1;33m\u001b[0m\u001b[1;33m\u001b[0m\u001b[0m\n\u001b[0;32m     13\u001b[0m             \u001b[1;32mbreak\u001b[0m\u001b[1;33m\u001b[0m\u001b[1;33m\u001b[0m\u001b[0m\n\u001b[1;32m---> 14\u001b[1;33m         \u001b[0mframe\u001b[0m \u001b[1;33m=\u001b[0m \u001b[0mimutils\u001b[0m\u001b[1;33m.\u001b[0m\u001b[0mresize\u001b[0m\u001b[1;33m(\u001b[0m\u001b[0mframe\u001b[0m\u001b[1;33m,\u001b[0m \u001b[0mwidth\u001b[0m\u001b[1;33m=\u001b[0m\u001b[1;36m1200\u001b[0m\u001b[1;33m)\u001b[0m\u001b[1;33m\u001b[0m\u001b[1;33m\u001b[0m\u001b[0m\n\u001b[0m\u001b[0;32m     15\u001b[0m         \u001b[0moverlay\u001b[0m \u001b[1;33m=\u001b[0m \u001b[0mframe\u001b[0m\u001b[1;33m.\u001b[0m\u001b[0mcopy\u001b[0m\u001b[1;33m(\u001b[0m\u001b[1;33m)\u001b[0m\u001b[1;33m\u001b[0m\u001b[1;33m\u001b[0m\u001b[0m\n\u001b[0;32m     16\u001b[0m \u001b[1;33m\u001b[0m\u001b[0m\n",
      "\u001b[1;32m~\\Anaconda3\\lib\\site-packages\\imutils\\convenience.py\u001b[0m in \u001b[0;36mresize\u001b[1;34m(image, width, height, inter)\u001b[0m\n\u001b[0;32m     89\u001b[0m \u001b[1;33m\u001b[0m\u001b[0m\n\u001b[0;32m     90\u001b[0m     \u001b[1;31m# resize the image\u001b[0m\u001b[1;33m\u001b[0m\u001b[1;33m\u001b[0m\u001b[1;33m\u001b[0m\u001b[0m\n\u001b[1;32m---> 91\u001b[1;33m     \u001b[0mresized\u001b[0m \u001b[1;33m=\u001b[0m \u001b[0mcv2\u001b[0m\u001b[1;33m.\u001b[0m\u001b[0mresize\u001b[0m\u001b[1;33m(\u001b[0m\u001b[0mimage\u001b[0m\u001b[1;33m,\u001b[0m \u001b[0mdim\u001b[0m\u001b[1;33m,\u001b[0m \u001b[0minterpolation\u001b[0m\u001b[1;33m=\u001b[0m\u001b[0minter\u001b[0m\u001b[1;33m)\u001b[0m\u001b[1;33m\u001b[0m\u001b[1;33m\u001b[0m\u001b[0m\n\u001b[0m\u001b[0;32m     92\u001b[0m \u001b[1;33m\u001b[0m\u001b[0m\n\u001b[0;32m     93\u001b[0m     \u001b[1;31m# return the resized image\u001b[0m\u001b[1;33m\u001b[0m\u001b[1;33m\u001b[0m\u001b[1;33m\u001b[0m\u001b[0m\n",
      "\u001b[1;31mKeyboardInterrupt\u001b[0m: "
     ]
    }
   ],
   "source": [
    "# extract_face_from_video('/content/sample_data/testMov.mp4', \"Terng\")\n",
    "extract_face_from_video('Videos/mookkt/mookkt2.mp4', \"mookkt\")"
   ]
  },
  {
   "cell_type": "code",
   "execution_count": null,
   "metadata": {},
   "outputs": [],
   "source": []
  }
 ],
 "metadata": {
  "accelerator": "GPU",
  "colab": {
   "collapsed_sections": [],
   "name": "summary.ipynb",
   "provenance": []
  },
  "kernelspec": {
   "display_name": "Python 3",
   "language": "python",
   "name": "python3"
  },
  "language_info": {
   "codemirror_mode": {
    "name": "ipython",
    "version": 3
   },
   "file_extension": ".py",
   "mimetype": "text/x-python",
   "name": "python",
   "nbconvert_exporter": "python",
   "pygments_lexer": "ipython3",
   "version": "3.7.3"
  }
 },
 "nbformat": 4,
 "nbformat_minor": 1
}
